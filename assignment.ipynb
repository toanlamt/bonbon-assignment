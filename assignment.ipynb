{
 "cells": [
  {
   "cell_type": "markdown",
   "metadata": {},
   "source": [
    "# Pre-requisites\n",
    "- WSL\n",
    "- Miniconda3 "
   ]
  },
  {
   "cell_type": "markdown",
   "metadata": {},
   "source": [
    "# Setup environment\n",
    "- Create conda env `conda create langchain python=3.11`\n",
    "- Set the \"langchain\" env that has been just created as the running env in VS code\n"
   ]
  },
  {
   "cell_type": "markdown",
   "metadata": {},
   "source": [
    "Install langchain and openai package"
   ]
  },
  {
   "cell_type": "code",
   "execution_count": 2,
   "metadata": {},
   "outputs": [
    {
     "name": "stdout",
     "output_type": "stream",
     "text": [
      "Requirement already satisfied: python-dotenv in /home/toanlamt1/miniconda3/envs/langchain-training/lib/python3.11/site-packages (1.1.0)\n"
     ]
    }
   ],
   "source": [
    "! pip install python-dotenv"
   ]
  },
  {
   "cell_type": "code",
   "execution_count": null,
   "metadata": {},
   "outputs": [],
   "source": [
    "\n",
    "! pip install langchain chromadb openai tiktoken pypdf langchain_openai langchain-chroma duckduckgo-search"
   ]
  },
  {
   "cell_type": "markdown",
   "metadata": {},
   "source": [
    "# Init variables"
   ]
  },
  {
   "cell_type": "markdown",
   "metadata": {},
   "source": [
    "You need to set value of `OPENAI_API_KEY` that you get from the training team in the .env file"
   ]
  },
  {
   "cell_type": "code",
   "execution_count": 4,
   "metadata": {},
   "outputs": [],
   "source": [
    "import os\n",
    "from dotenv import load_dotenv\n",
    "\n",
    "# Load environment variables from the .env file\n",
    "load_dotenv()\n",
    "\n",
    "AZURE_OPENAI_API_KEY = os.getenv(\"OPENAI_API_KEY\")\n",
    "AZURE_OPENAI_API_VERSION = os.getenv(\"AZURE_OPENAI_API_VERSION\")\n",
    "AZURE_OPENAI_EMBEDDING_MODEL = os.getenv(\"OPENAI_EMBEDDING_MODEL\")\n",
    "AZURE_OPENAI_DEPLOYMENT_NAME = os.getenv(\"AZURE_OPENAI_EMBEDDING_DEPLOYMENT\")"
   ]
  },
  {
   "cell_type": "markdown",
   "metadata": {},
   "source": [
    "# Overviews\n",
    "The BonBon FAQ.pdf file contains frequently asked questions and answers for customer support scenario. The topics are around IT related issue troubleshooting such as networking, software, hardware. You are requested to provide a solution to build a chat bot capable of answering the user questions with LangChain."
   ]
  },
  {
   "cell_type": "markdown",
   "metadata": {},
   "source": [
    "## Assignment 1: Document Indexing (mandatory)"
   ]
  },
  {
   "cell_type": "markdown",
   "metadata": {},
   "source": [
    "- The content of BonBon FAQ.pdf should be indexed to the local Chroma vector DB from where the chatbot can lookup the appropriate information to answer questions.\n",
    "- Should use some embedding model such as Azure Open AI text-embedding-ada-002 to create vectors, feel free to use any other open source embedding model if it works."
   ]
  },
  {
   "cell_type": "code",
   "execution_count": 13,
   "metadata": {},
   "outputs": [
    {
     "name": "stdout",
     "output_type": "stream",
     "text": [
      "Built Chroma vector DB and loaded pdf file successfully!!!\n"
     ]
    }
   ],
   "source": [
    "from langchain.document_loaders import PyPDFLoader\n",
    "from langchain.text_splitter import RecursiveCharacterTextSplitter\n",
    "from langchain_openai import AzureOpenAIEmbeddings\n",
    "from langchain_chroma import Chroma\n",
    "\n",
    "\n",
    "embedding = AzureOpenAIEmbeddings(\n",
    "    azure_deployment=os.getenv(\"AZURE_OPENAI_EMBEDDING_DEPLOYMENT\"),\n",
    "    api_key=os.getenv(\"OPENAI_API_KEY\"),\n",
    "    azure_endpoint=\"https://langchain-training-openai.openai.azure.com\",\n",
    "    api_version=os.getenv(\"AZURE_OPENAI_API_VERSION\")\n",
    ")\n",
    "\n",
    "loader = PyPDFLoader(\"data/BonBon FAQ.pdf\")\n",
    "pages = loader.load()\n",
    "\n",
    "splitter = RecursiveCharacterTextSplitter(chunk_size=1000, chunk_overlap=200)\n",
    "chunks = splitter.split_documents(pages)\n",
    "\n",
    "for chunk in chunks:\n",
    "    chunk.metadata[\"source\"] = f\"BonBon FAQ.pdf (page {chunk.metadata.get('page', 'unknown') + 1})\"\n",
    "\n",
    "vectordb = Chroma.from_documents(chunks, embedding, persist_directory=\"./chroma_db\")\n",
    "print(\"Built Chroma vector DB and loaded pdf file successfully!!!\")\n"
   ]
  },
  {
   "cell_type": "markdown",
   "metadata": {},
   "source": [
    "## Assignment 2: Building Chatbot (mandatory)\n",
    "- You are requested to build a chatbot solution for customer support scenario using Conversational ReAct agent supported in LangChain\n",
    "- The chatbot is able to support user to answer FAQs in the sample BonBon FAQ.pdf file.\n",
    "- The chatbot should use Azure Open AI GPT-3.5 LLM as the reasoning engine.\n",
    "- The chatbot should be context aware, meaning that it should be able to chat with users in the conversation manner.\n",
    "- The agent is equipped the following tools:\n",
    "  - Internet Search: Help the chatbot automatically find out more about something using Duck Duck Go internet search\n",
    "  - Knowledge Base Search: Help the chatbot to lookup information in the private knowledge base\n",
    "- In case user asks for information related to topics in the BonBon FAQ.pdf file such as internet connection, printer, malware issues the chatbot must use the private knowledge base, otherwise it should search on the internet to answer the question.\n",
    "- In the answer of chatbot, it should mention the source file and the page that the answer belongs to, for example the answer should mention \"BonBon FQA.pdf (page 2)\""
   ]
  },
  {
   "cell_type": "code",
   "execution_count": null,
   "metadata": {},
   "outputs": [
    {
     "name": "stdout",
     "output_type": "stream",
     "text": [
      "💬 Welcome to BonBon Support Chatbot! (type 'exit' to quit)\n",
      "\n",
      "\n",
      "\n",
      "\u001b[1m> Entering new AgentExecutor chain...\u001b[0m\n",
      "\u001b[32;1m\u001b[1;3mThought: Do I need to use a tool? No\n",
      "AI: Hello! How can I assist you today?\u001b[0m\n",
      "\n",
      "\u001b[1m> Finished chain.\u001b[0m\n",
      "\n",
      "🤖 Bot: Hello! How can I assist you today?\n",
      "\n",
      "\n",
      "\n",
      "\u001b[1m> Entering new AgentExecutor chain...\u001b[0m\n",
      "\u001b[32;1m\u001b[1;3mThought: Do I need to use a tool? Yes\n",
      "Action: Knowledge Base\n",
      "Action Input: internet connection not working\u001b[0m\n",
      "Observation: \u001b[36;1m\u001b[1;3mPlease follow these steps to troubleshoot your internet connection issue:\n",
      "\n",
      "1) Check physical connections:\n",
      "- Ensure all cables (Ethernet, modem, router) are securely connected.\n",
      "- Power cycle your modem and router by unplugging them for 30 seconds and then plugging them back in.\n",
      "\n",
      "2) Verify Wi-Fi settings:\n",
      "- Make sure Wi-Fi on your device is turned on.\n",
      "- Check if you are connected to the correct Wi-Fi network.\n",
      "- Try disconnecting and reconnecting to the Wi-Fi network.\n",
      "\n",
      "3) Test connectivity on other devices:\n",
      "- Check if other devices can connect to the internet to determine if it's a device-specific issue or a broader network problem.\n",
      "\n",
      "4) Restart your device:\n",
      "- Restart your computer or device to refresh network settings.\n",
      "\n",
      "5) Disable/enable network adapters.\n",
      "\n",
      "(Source: data/BonBon FAQ.pdf (page 4))\u001b[0m\n",
      "Thought:\u001b[32;1m\u001b[1;3mDo I need to use a tool? No\n",
      "AI: Please follow the steps provided to troubleshoot your internet connection issue. If you continue to experience problems, feel free to ask for further assistance.\u001b[0m\n",
      "\n",
      "\u001b[1m> Finished chain.\u001b[0m\n",
      "\n",
      "🤖 Bot: Please follow the steps provided to troubleshoot your internet connection issue. If you continue to experience problems, feel free to ask for further assistance.\n",
      "\n",
      "\n",
      "\n",
      "\u001b[1m> Entering new AgentExecutor chain...\u001b[0m\n",
      "\u001b[32;1m\u001b[1;3mThought: Do I need to use a tool? Yes\n",
      "Action: Knowledge Base\n",
      "Action Input: How to connect to Any Corp’s Corporate Wi-Fi network\u001b[0m\n",
      "Observation: \u001b[36;1m\u001b[1;3mTo connect to Any Corp’s Corporate Wi-Fi network, follow these steps:\n",
      "\n",
      "1. Look for the available Wi-Fi networks on your device.\n",
      "2. Select Any Corp's corporate Wi-Fi network from the list of available networks.\n",
      "3. Enter the Wi-Fi network password or security key when prompted.\n",
      "4. Verify the connection by allowing your device to connect to the corporate Wi-Fi network.\n",
      "\n",
      "If you have trouble finding the network name or password, refer to the email sent when you first joined Any Corp. If you can't find the email, ask a colleague to access the Wi-Fi details on Any Corp’s Intranet or contact the IT Helpdesk for assistance.\n",
      "\n",
      "(Source: data/BonBon FAQ.pdf (page 5))\u001b[0m\n",
      "Thought:\u001b[32;1m\u001b[1;3mDo I need to use a tool? No\n",
      "AI: To connect to Any Corp’s Corporate Wi-Fi network, you need to look for the network in your device's available Wi-Fi networks, select it, enter the password or security key when prompted, and verify the connection. If you're having trouble, you can refer to the email you received when you first joined Any Corp, ask a colleague, or contact the IT Helpdesk for assistance.\u001b[0m\n",
      "\n",
      "\u001b[1m> Finished chain.\u001b[0m\n",
      "\n",
      "🤖 Bot: To connect to Any Corp’s Corporate Wi-Fi network, you need to look for the network in your device's available Wi-Fi networks, select it, enter the password or security key when prompted, and verify the connection. If you're having trouble, you can refer to the email you received when you first joined Any Corp, ask a colleague, or contact the IT Helpdesk for assistance.\n",
      "\n"
     ]
    }
   ],
   "source": [
    "from langchain_openai import AzureChatOpenAI\n",
    "from langchain.agents import Tool, initialize_agent, AgentType\n",
    "from langchain.tools import DuckDuckGoSearchRun\n",
    "from langchain.chains import RetrievalQA\n",
    "from langchain.chains.conversation.memory import ConversationBufferWindowMemory\n",
    "from langchain.memory import ConversationBufferMemory\n",
    "\n",
    "llm = AzureChatOpenAI(\n",
    "    azure_deployment=os.getenv(\"AZURE_OPENAI_CHAT_DEPLOYMENT\"),\n",
    "    api_key=os.getenv(\"OPENAI_API_KEY\"),\n",
    "    azure_endpoint=\"https://langchain-training-openai.openai.azure.com\",\n",
    "    api_version=os.getenv(\"AZURE_OPENAI_API_VERSION\"),\n",
    "    temperature=0.2\n",
    ")\n",
    "\n",
    "memory = ConversationBufferMemory(memory_key=\"chat_history\", return_messages=True)\n",
    "\n",
    "retriever = vectordb.as_retriever()\n",
    "\n",
    "qa_chain = RetrievalQA.from_chain_type(\n",
    "    llm=llm,\n",
    "    retriever=retriever,\n",
    "    return_source_documents=True,\n",
    "    verbose=False,\n",
    ")\n",
    "\n",
    "# Tool 1: Search from KB\n",
    "def search_kb_with_citation(query: str) -> str:\n",
    "    result = qa_chain.invoke({\"query\": query})\n",
    "    docs = result.get(\"source_documents\", [])\n",
    "    if not docs:\n",
    "        return \"I don't know.\"\n",
    "    \n",
    "    page = docs[0].metadata.get(\"page\", \"unknown\")\n",
    "    source = docs[0].metadata.get(\"source\", \"BonBon FAQ.pdf\")\n",
    "    return f\"{result['result']}\\n\\n(Source: {source} (page {int(page)+1}))\"\n",
    "\n",
    "# Tool 2: Internet search\n",
    "internet_search = DuckDuckGoSearchRun()\n",
    "\n",
    "tools = [\n",
    "    Tool(\n",
    "        name=\"Knowledge Base\",\n",
    "        func=search_kb_with_citation,\n",
    "        description=\"Use this to answer questions about internet connection, software, password, malware, printer, etc. from BonBon FAQ.\"\n",
    "    ),\n",
    "    Tool(\n",
    "        name=\"Web Search\",\n",
    "        func=internet_search.run,\n",
    "        description=\"Use this if the question is outside BonBon FAQ scope, like current events or general facts.\"\n",
    "    )\n",
    "]\n",
    "\n",
    "agent = initialize_agent(\n",
    "    tools=tools,\n",
    "    llm=llm,\n",
    "    agent=AgentType.CONVERSATIONAL_REACT_DESCRIPTION,\n",
    "    memory=memory,\n",
    "    verbose=True\n",
    ")\n",
    "\n",
    "def chat():\n",
    "    print(\"💬 Welcome to BonBon Support Chatbot! (type 'exit' to quit)\\n\")\n",
    "    while True:\n",
    "        question = input(\"User: \")\n",
    "        if question.lower() == \"exit\":\n",
    "            break\n",
    "        response = agent.run(question)\n",
    "        print(f\"\\n🤖 Bot: {response}\\n\")\n",
    "\n",
    "chat()\n",
    "\n"
   ]
  },
  {
   "cell_type": "markdown",
   "metadata": {},
   "source": [
    "## Assignment 3: Build a new assistant based on BonBon source code (optional)\n",
    "The objective\n",
    "- Run the code and index the sample BonBon FAQ.pdf file to Azure Cognitive Search\n",
    "- Explore the code and implement a new assistant that has the same behavior as above\n",
    "- Explore other features such as RBACs, features on admin portal\n",
    "\n",
    "Please contact the training team in case you need to get the source code of BonBon."
   ]
  }
 ],
 "metadata": {
  "kernelspec": {
   "display_name": "Python (langchain)",
   "language": "python",
   "name": "langchain-training"
  },
  "language_info": {
   "codemirror_mode": {
    "name": "ipython",
    "version": 3
   },
   "file_extension": ".py",
   "mimetype": "text/x-python",
   "name": "python",
   "nbconvert_exporter": "python",
   "pygments_lexer": "ipython3",
   "version": "3.11.13"
  }
 },
 "nbformat": 4,
 "nbformat_minor": 2
}
