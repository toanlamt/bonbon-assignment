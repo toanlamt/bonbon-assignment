{
 "cells": [
  {
   "cell_type": "markdown",
   "metadata": {},
   "source": [
    "# Pre-requisites\n",
    "- WSL\n",
    "- Miniconda3 "
   ]
  },
  {
   "cell_type": "markdown",
   "metadata": {},
   "source": [
    "# Setup environment\n",
    "- Create conda env `conda create langchain python=3.11`\n",
    "- Set the \"langchain\" env that has been just created as the running env in VS code\n"
   ]
  },
  {
   "cell_type": "markdown",
   "metadata": {},
   "source": [
    "Install langchain and openai package"
   ]
  },
  {
   "cell_type": "code",
   "execution_count": 2,
   "metadata": {},
   "outputs": [
    {
     "name": "stdout",
     "output_type": "stream",
     "text": [
      "Requirement already satisfied: python-dotenv in /home/toanlamt1/miniconda3/envs/langchain-training/lib/python3.11/site-packages (1.1.0)\n"
     ]
    }
   ],
   "source": [
    "! pip install python-dotenv"
   ]
  },
  {
   "cell_type": "code",
   "execution_count": null,
   "metadata": {},
   "outputs": [
    {
     "name": "stdout",
     "output_type": "stream",
     "text": [
      "Requirement already satisfied: langchain in /home/toanlamt1/miniconda3/envs/langchain-training/lib/python3.11/site-packages (0.3.25)\n",
      "Requirement already satisfied: chromadb in /home/toanlamt1/miniconda3/envs/langchain-training/lib/python3.11/site-packages (1.0.12)\n",
      "Requirement already satisfied: openai in /home/toanlamt1/miniconda3/envs/langchain-training/lib/python3.11/site-packages (1.86.0)\n",
      "Requirement already satisfied: tiktoken in /home/toanlamt1/miniconda3/envs/langchain-training/lib/python3.11/site-packages (0.9.0)\n",
      "Requirement already satisfied: pypdf in /home/toanlamt1/miniconda3/envs/langchain-training/lib/python3.11/site-packages (5.6.0)\n",
      "Requirement already satisfied: langchain_openai in /home/toanlamt1/miniconda3/envs/langchain-training/lib/python3.11/site-packages (0.3.23)\n",
      "Requirement already satisfied: langchain-chroma in /home/toanlamt1/miniconda3/envs/langchain-training/lib/python3.11/site-packages (0.2.4)\n",
      "Requirement already satisfied: langchain_community in /home/toanlamt1/miniconda3/envs/langchain-training/lib/python3.11/site-packages (0.3.25)\n",
      "Requirement already satisfied: duckduckgo-search in /home/toanlamt1/miniconda3/envs/langchain-training/lib/python3.11/site-packages (8.0.4)\n",
      "Requirement already satisfied: langchain-core<1.0.0,>=0.3.58 in /home/toanlamt1/miniconda3/envs/langchain-training/lib/python3.11/site-packages (from langchain) (0.3.65)\n",
      "Requirement already satisfied: langchain-text-splitters<1.0.0,>=0.3.8 in /home/toanlamt1/miniconda3/envs/langchain-training/lib/python3.11/site-packages (from langchain) (0.3.8)\n",
      "Requirement already satisfied: langsmith<0.4,>=0.1.17 in /home/toanlamt1/miniconda3/envs/langchain-training/lib/python3.11/site-packages (from langchain) (0.3.45)\n",
      "Requirement already satisfied: pydantic<3.0.0,>=2.7.4 in /home/toanlamt1/miniconda3/envs/langchain-training/lib/python3.11/site-packages (from langchain) (2.11.7)\n",
      "Requirement already satisfied: SQLAlchemy<3,>=1.4 in /home/toanlamt1/miniconda3/envs/langchain-training/lib/python3.11/site-packages (from langchain) (2.0.41)\n",
      "Requirement already satisfied: requests<3,>=2 in /home/toanlamt1/miniconda3/envs/langchain-training/lib/python3.11/site-packages (from langchain) (2.32.4)\n",
      "Requirement already satisfied: PyYAML>=5.3 in /home/toanlamt1/miniconda3/envs/langchain-training/lib/python3.11/site-packages (from langchain) (6.0.2)\n",
      "Requirement already satisfied: tenacity!=8.4.0,<10.0.0,>=8.1.0 in /home/toanlamt1/miniconda3/envs/langchain-training/lib/python3.11/site-packages (from langchain-core<1.0.0,>=0.3.58->langchain) (9.1.2)\n",
      "Requirement already satisfied: jsonpatch<2.0,>=1.33 in /home/toanlamt1/miniconda3/envs/langchain-training/lib/python3.11/site-packages (from langchain-core<1.0.0,>=0.3.58->langchain) (1.33)\n",
      "Requirement already satisfied: packaging<25,>=23.2 in /home/toanlamt1/miniconda3/envs/langchain-training/lib/python3.11/site-packages (from langchain-core<1.0.0,>=0.3.58->langchain) (24.2)\n",
      "Requirement already satisfied: typing-extensions>=4.7 in /home/toanlamt1/miniconda3/envs/langchain-training/lib/python3.11/site-packages (from langchain-core<1.0.0,>=0.3.58->langchain) (4.12.2)\n",
      "Requirement already satisfied: jsonpointer>=1.9 in /home/toanlamt1/miniconda3/envs/langchain-training/lib/python3.11/site-packages (from jsonpatch<2.0,>=1.33->langchain-core<1.0.0,>=0.3.58->langchain) (3.0.0)\n",
      "Requirement already satisfied: httpx<1,>=0.23.0 in /home/toanlamt1/miniconda3/envs/langchain-training/lib/python3.11/site-packages (from langsmith<0.4,>=0.1.17->langchain) (0.28.1)\n",
      "Requirement already satisfied: orjson<4.0.0,>=3.9.14 in /home/toanlamt1/miniconda3/envs/langchain-training/lib/python3.11/site-packages (from langsmith<0.4,>=0.1.17->langchain) (3.10.18)\n",
      "Requirement already satisfied: requests-toolbelt<2.0.0,>=1.0.0 in /home/toanlamt1/miniconda3/envs/langchain-training/lib/python3.11/site-packages (from langsmith<0.4,>=0.1.17->langchain) (1.0.0)\n",
      "Requirement already satisfied: zstandard<0.24.0,>=0.23.0 in /home/toanlamt1/miniconda3/envs/langchain-training/lib/python3.11/site-packages (from langsmith<0.4,>=0.1.17->langchain) (0.23.0)\n",
      "Requirement already satisfied: anyio in /home/toanlamt1/miniconda3/envs/langchain-training/lib/python3.11/site-packages (from httpx<1,>=0.23.0->langsmith<0.4,>=0.1.17->langchain) (4.9.0)\n",
      "Requirement already satisfied: certifi in /home/toanlamt1/miniconda3/envs/langchain-training/lib/python3.11/site-packages (from httpx<1,>=0.23.0->langsmith<0.4,>=0.1.17->langchain) (2025.6.15)\n",
      "Requirement already satisfied: httpcore==1.* in /home/toanlamt1/miniconda3/envs/langchain-training/lib/python3.11/site-packages (from httpx<1,>=0.23.0->langsmith<0.4,>=0.1.17->langchain) (1.0.9)\n",
      "Requirement already satisfied: idna in /home/toanlamt1/miniconda3/envs/langchain-training/lib/python3.11/site-packages (from httpx<1,>=0.23.0->langsmith<0.4,>=0.1.17->langchain) (3.10)\n",
      "Requirement already satisfied: h11>=0.16 in /home/toanlamt1/miniconda3/envs/langchain-training/lib/python3.11/site-packages (from httpcore==1.*->httpx<1,>=0.23.0->langsmith<0.4,>=0.1.17->langchain) (0.16.0)\n",
      "Requirement already satisfied: annotated-types>=0.6.0 in /home/toanlamt1/miniconda3/envs/langchain-training/lib/python3.11/site-packages (from pydantic<3.0.0,>=2.7.4->langchain) (0.7.0)\n",
      "Requirement already satisfied: pydantic-core==2.33.2 in /home/toanlamt1/miniconda3/envs/langchain-training/lib/python3.11/site-packages (from pydantic<3.0.0,>=2.7.4->langchain) (2.33.2)\n",
      "Requirement already satisfied: typing-inspection>=0.4.0 in /home/toanlamt1/miniconda3/envs/langchain-training/lib/python3.11/site-packages (from pydantic<3.0.0,>=2.7.4->langchain) (0.4.1)\n",
      "Requirement already satisfied: charset_normalizer<4,>=2 in /home/toanlamt1/miniconda3/envs/langchain-training/lib/python3.11/site-packages (from requests<3,>=2->langchain) (3.4.2)\n",
      "Requirement already satisfied: urllib3<3,>=1.21.1 in /home/toanlamt1/miniconda3/envs/langchain-training/lib/python3.11/site-packages (from requests<3,>=2->langchain) (2.4.0)\n",
      "Requirement already satisfied: greenlet>=1 in /home/toanlamt1/miniconda3/envs/langchain-training/lib/python3.11/site-packages (from SQLAlchemy<3,>=1.4->langchain) (3.2.3)\n",
      "Requirement already satisfied: build>=1.0.3 in /home/toanlamt1/miniconda3/envs/langchain-training/lib/python3.11/site-packages (from chromadb) (1.2.2.post1)\n",
      "Requirement already satisfied: fastapi==0.115.9 in /home/toanlamt1/miniconda3/envs/langchain-training/lib/python3.11/site-packages (from chromadb) (0.115.9)\n",
      "Requirement already satisfied: uvicorn>=0.18.3 in /home/toanlamt1/miniconda3/envs/langchain-training/lib/python3.11/site-packages (from uvicorn[standard]>=0.18.3->chromadb) (0.34.3)\n",
      "Requirement already satisfied: numpy>=1.22.5 in /home/toanlamt1/miniconda3/envs/langchain-training/lib/python3.11/site-packages (from chromadb) (2.3.0)\n",
      "Requirement already satisfied: posthog>=2.4.0 in /home/toanlamt1/miniconda3/envs/langchain-training/lib/python3.11/site-packages (from chromadb) (4.10.0)\n",
      "Requirement already satisfied: onnxruntime>=1.14.1 in /home/toanlamt1/miniconda3/envs/langchain-training/lib/python3.11/site-packages (from chromadb) (1.22.0)\n",
      "Requirement already satisfied: opentelemetry-api>=1.2.0 in /home/toanlamt1/miniconda3/envs/langchain-training/lib/python3.11/site-packages (from chromadb) (1.34.1)\n",
      "Requirement already satisfied: opentelemetry-exporter-otlp-proto-grpc>=1.2.0 in /home/toanlamt1/miniconda3/envs/langchain-training/lib/python3.11/site-packages (from chromadb) (1.34.1)\n",
      "Requirement already satisfied: opentelemetry-instrumentation-fastapi>=0.41b0 in /home/toanlamt1/miniconda3/envs/langchain-training/lib/python3.11/site-packages (from chromadb) (0.55b1)\n",
      "Requirement already satisfied: opentelemetry-sdk>=1.2.0 in /home/toanlamt1/miniconda3/envs/langchain-training/lib/python3.11/site-packages (from chromadb) (1.34.1)\n",
      "Requirement already satisfied: tokenizers>=0.13.2 in /home/toanlamt1/miniconda3/envs/langchain-training/lib/python3.11/site-packages (from chromadb) (0.21.1)\n",
      "Requirement already satisfied: pypika>=0.48.9 in /home/toanlamt1/miniconda3/envs/langchain-training/lib/python3.11/site-packages (from chromadb) (0.48.9)\n",
      "Requirement already satisfied: tqdm>=4.65.0 in /home/toanlamt1/miniconda3/envs/langchain-training/lib/python3.11/site-packages (from chromadb) (4.67.1)\n",
      "Requirement already satisfied: overrides>=7.3.1 in /home/toanlamt1/miniconda3/envs/langchain-training/lib/python3.11/site-packages (from chromadb) (7.7.0)\n",
      "Requirement already satisfied: importlib-resources in /home/toanlamt1/miniconda3/envs/langchain-training/lib/python3.11/site-packages (from chromadb) (6.5.2)\n",
      "Requirement already satisfied: grpcio>=1.58.0 in /home/toanlamt1/miniconda3/envs/langchain-training/lib/python3.11/site-packages (from chromadb) (1.73.0)\n",
      "Requirement already satisfied: bcrypt>=4.0.1 in /home/toanlamt1/miniconda3/envs/langchain-training/lib/python3.11/site-packages (from chromadb) (4.3.0)\n",
      "Requirement already satisfied: typer>=0.9.0 in /home/toanlamt1/miniconda3/envs/langchain-training/lib/python3.11/site-packages (from chromadb) (0.16.0)\n",
      "Requirement already satisfied: kubernetes>=28.1.0 in /home/toanlamt1/miniconda3/envs/langchain-training/lib/python3.11/site-packages (from chromadb) (33.1.0)\n",
      "Requirement already satisfied: mmh3>=4.0.1 in /home/toanlamt1/miniconda3/envs/langchain-training/lib/python3.11/site-packages (from chromadb) (5.1.0)\n",
      "Requirement already satisfied: rich>=10.11.0 in /home/toanlamt1/miniconda3/envs/langchain-training/lib/python3.11/site-packages (from chromadb) (14.0.0)\n",
      "Requirement already satisfied: jsonschema>=4.19.0 in /home/toanlamt1/miniconda3/envs/langchain-training/lib/python3.11/site-packages (from chromadb) (4.24.0)\n",
      "Requirement already satisfied: starlette<0.46.0,>=0.40.0 in /home/toanlamt1/miniconda3/envs/langchain-training/lib/python3.11/site-packages (from fastapi==0.115.9->chromadb) (0.45.3)\n",
      "Requirement already satisfied: sniffio>=1.1 in /home/toanlamt1/miniconda3/envs/langchain-training/lib/python3.11/site-packages (from anyio->httpx<1,>=0.23.0->langsmith<0.4,>=0.1.17->langchain) (1.3.1)\n",
      "Requirement already satisfied: distro<2,>=1.7.0 in /home/toanlamt1/miniconda3/envs/langchain-training/lib/python3.11/site-packages (from openai) (1.9.0)\n",
      "Requirement already satisfied: jiter<1,>=0.4.0 in /home/toanlamt1/miniconda3/envs/langchain-training/lib/python3.11/site-packages (from openai) (0.10.0)\n",
      "Requirement already satisfied: regex>=2022.1.18 in /home/toanlamt1/miniconda3/envs/langchain-training/lib/python3.11/site-packages (from tiktoken) (2024.11.6)\n",
      "Requirement already satisfied: aiohttp<4.0.0,>=3.8.3 in /home/toanlamt1/miniconda3/envs/langchain-training/lib/python3.11/site-packages (from langchain_community) (3.12.13)\n",
      "Requirement already satisfied: dataclasses-json<0.7,>=0.5.7 in /home/toanlamt1/miniconda3/envs/langchain-training/lib/python3.11/site-packages (from langchain_community) (0.6.7)\n",
      "Requirement already satisfied: pydantic-settings<3.0.0,>=2.4.0 in /home/toanlamt1/miniconda3/envs/langchain-training/lib/python3.11/site-packages (from langchain_community) (2.9.1)\n",
      "Requirement already satisfied: httpx-sse<1.0.0,>=0.4.0 in /home/toanlamt1/miniconda3/envs/langchain-training/lib/python3.11/site-packages (from langchain_community) (0.4.0)\n",
      "Requirement already satisfied: aiohappyeyeballs>=2.5.0 in /home/toanlamt1/miniconda3/envs/langchain-training/lib/python3.11/site-packages (from aiohttp<4.0.0,>=3.8.3->langchain_community) (2.6.1)\n",
      "Requirement already satisfied: aiosignal>=1.1.2 in /home/toanlamt1/miniconda3/envs/langchain-training/lib/python3.11/site-packages (from aiohttp<4.0.0,>=3.8.3->langchain_community) (1.3.2)\n",
      "Requirement already satisfied: attrs>=17.3.0 in /home/toanlamt1/miniconda3/envs/langchain-training/lib/python3.11/site-packages (from aiohttp<4.0.0,>=3.8.3->langchain_community) (25.3.0)\n",
      "Requirement already satisfied: frozenlist>=1.1.1 in /home/toanlamt1/miniconda3/envs/langchain-training/lib/python3.11/site-packages (from aiohttp<4.0.0,>=3.8.3->langchain_community) (1.7.0)\n",
      "Requirement already satisfied: multidict<7.0,>=4.5 in /home/toanlamt1/miniconda3/envs/langchain-training/lib/python3.11/site-packages (from aiohttp<4.0.0,>=3.8.3->langchain_community) (6.4.4)\n",
      "Requirement already satisfied: propcache>=0.2.0 in /home/toanlamt1/miniconda3/envs/langchain-training/lib/python3.11/site-packages (from aiohttp<4.0.0,>=3.8.3->langchain_community) (0.3.2)\n",
      "Requirement already satisfied: yarl<2.0,>=1.17.0 in /home/toanlamt1/miniconda3/envs/langchain-training/lib/python3.11/site-packages (from aiohttp<4.0.0,>=3.8.3->langchain_community) (1.20.1)\n",
      "Requirement already satisfied: marshmallow<4.0.0,>=3.18.0 in /home/toanlamt1/miniconda3/envs/langchain-training/lib/python3.11/site-packages (from dataclasses-json<0.7,>=0.5.7->langchain_community) (3.26.1)\n",
      "Requirement already satisfied: typing-inspect<1,>=0.4.0 in /home/toanlamt1/miniconda3/envs/langchain-training/lib/python3.11/site-packages (from dataclasses-json<0.7,>=0.5.7->langchain_community) (0.9.0)\n",
      "Requirement already satisfied: python-dotenv>=0.21.0 in /home/toanlamt1/miniconda3/envs/langchain-training/lib/python3.11/site-packages (from pydantic-settings<3.0.0,>=2.4.0->langchain_community) (1.1.0)\n",
      "Requirement already satisfied: mypy-extensions>=0.3.0 in /home/toanlamt1/miniconda3/envs/langchain-training/lib/python3.11/site-packages (from typing-inspect<1,>=0.4.0->dataclasses-json<0.7,>=0.5.7->langchain_community) (1.1.0)\n",
      "Requirement already satisfied: click>=8.1.8 in /home/toanlamt1/miniconda3/envs/langchain-training/lib/python3.11/site-packages (from duckduckgo-search) (8.2.1)\n",
      "Requirement already satisfied: primp>=0.15.0 in /home/toanlamt1/miniconda3/envs/langchain-training/lib/python3.11/site-packages (from duckduckgo-search) (0.15.0)\n",
      "Requirement already satisfied: lxml>=5.3.0 in /home/toanlamt1/miniconda3/envs/langchain-training/lib/python3.11/site-packages (from duckduckgo-search) (5.4.0)\n",
      "Requirement already satisfied: pyproject_hooks in /home/toanlamt1/miniconda3/envs/langchain-training/lib/python3.11/site-packages (from build>=1.0.3->chromadb) (1.2.0)\n",
      "Requirement already satisfied: jsonschema-specifications>=2023.03.6 in /home/toanlamt1/miniconda3/envs/langchain-training/lib/python3.11/site-packages (from jsonschema>=4.19.0->chromadb) (2025.4.1)\n",
      "Requirement already satisfied: referencing>=0.28.4 in /home/toanlamt1/miniconda3/envs/langchain-training/lib/python3.11/site-packages (from jsonschema>=4.19.0->chromadb) (0.36.2)\n",
      "Requirement already satisfied: rpds-py>=0.7.1 in /home/toanlamt1/miniconda3/envs/langchain-training/lib/python3.11/site-packages (from jsonschema>=4.19.0->chromadb) (0.25.1)\n",
      "Requirement already satisfied: six>=1.9.0 in /home/toanlamt1/miniconda3/envs/langchain-training/lib/python3.11/site-packages (from kubernetes>=28.1.0->chromadb) (1.17.0)\n",
      "Requirement already satisfied: python-dateutil>=2.5.3 in /home/toanlamt1/miniconda3/envs/langchain-training/lib/python3.11/site-packages (from kubernetes>=28.1.0->chromadb) (2.9.0.post0)\n",
      "Requirement already satisfied: google-auth>=1.0.1 in /home/toanlamt1/miniconda3/envs/langchain-training/lib/python3.11/site-packages (from kubernetes>=28.1.0->chromadb) (2.40.3)\n",
      "Requirement already satisfied: websocket-client!=0.40.0,!=0.41.*,!=0.42.*,>=0.32.0 in /home/toanlamt1/miniconda3/envs/langchain-training/lib/python3.11/site-packages (from kubernetes>=28.1.0->chromadb) (1.8.0)\n",
      "Requirement already satisfied: requests-oauthlib in /home/toanlamt1/miniconda3/envs/langchain-training/lib/python3.11/site-packages (from kubernetes>=28.1.0->chromadb) (2.0.0)\n",
      "Requirement already satisfied: oauthlib>=3.2.2 in /home/toanlamt1/miniconda3/envs/langchain-training/lib/python3.11/site-packages (from kubernetes>=28.1.0->chromadb) (3.2.2)\n",
      "Requirement already satisfied: durationpy>=0.7 in /home/toanlamt1/miniconda3/envs/langchain-training/lib/python3.11/site-packages (from kubernetes>=28.1.0->chromadb) (0.10)\n",
      "Requirement already satisfied: cachetools<6.0,>=2.0.0 in /home/toanlamt1/miniconda3/envs/langchain-training/lib/python3.11/site-packages (from google-auth>=1.0.1->kubernetes>=28.1.0->chromadb) (5.5.2)\n",
      "Requirement already satisfied: pyasn1-modules>=0.2.1 in /home/toanlamt1/miniconda3/envs/langchain-training/lib/python3.11/site-packages (from google-auth>=1.0.1->kubernetes>=28.1.0->chromadb) (0.4.2)\n",
      "Requirement already satisfied: rsa<5,>=3.1.4 in /home/toanlamt1/miniconda3/envs/langchain-training/lib/python3.11/site-packages (from google-auth>=1.0.1->kubernetes>=28.1.0->chromadb) (4.9.1)\n",
      "Requirement already satisfied: pyasn1>=0.1.3 in /home/toanlamt1/miniconda3/envs/langchain-training/lib/python3.11/site-packages (from rsa<5,>=3.1.4->google-auth>=1.0.1->kubernetes>=28.1.0->chromadb) (0.6.1)\n",
      "Requirement already satisfied: coloredlogs in /home/toanlamt1/miniconda3/envs/langchain-training/lib/python3.11/site-packages (from onnxruntime>=1.14.1->chromadb) (15.0.1)\n",
      "Requirement already satisfied: flatbuffers in /home/toanlamt1/miniconda3/envs/langchain-training/lib/python3.11/site-packages (from onnxruntime>=1.14.1->chromadb) (25.2.10)\n",
      "Requirement already satisfied: protobuf in /home/toanlamt1/miniconda3/envs/langchain-training/lib/python3.11/site-packages (from onnxruntime>=1.14.1->chromadb) (5.29.5)\n",
      "Requirement already satisfied: sympy in /home/toanlamt1/miniconda3/envs/langchain-training/lib/python3.11/site-packages (from onnxruntime>=1.14.1->chromadb) (1.14.0)\n",
      "Requirement already satisfied: importlib-metadata<8.8.0,>=6.0 in /home/toanlamt1/miniconda3/envs/langchain-training/lib/python3.11/site-packages (from opentelemetry-api>=1.2.0->chromadb) (8.7.0)\n",
      "Requirement already satisfied: zipp>=3.20 in /home/toanlamt1/miniconda3/envs/langchain-training/lib/python3.11/site-packages (from importlib-metadata<8.8.0,>=6.0->opentelemetry-api>=1.2.0->chromadb) (3.23.0)\n",
      "Requirement already satisfied: googleapis-common-protos~=1.52 in /home/toanlamt1/miniconda3/envs/langchain-training/lib/python3.11/site-packages (from opentelemetry-exporter-otlp-proto-grpc>=1.2.0->chromadb) (1.70.0)\n",
      "Requirement already satisfied: opentelemetry-exporter-otlp-proto-common==1.34.1 in /home/toanlamt1/miniconda3/envs/langchain-training/lib/python3.11/site-packages (from opentelemetry-exporter-otlp-proto-grpc>=1.2.0->chromadb) (1.34.1)\n",
      "Requirement already satisfied: opentelemetry-proto==1.34.1 in /home/toanlamt1/miniconda3/envs/langchain-training/lib/python3.11/site-packages (from opentelemetry-exporter-otlp-proto-grpc>=1.2.0->chromadb) (1.34.1)\n",
      "Requirement already satisfied: opentelemetry-semantic-conventions==0.55b1 in /home/toanlamt1/miniconda3/envs/langchain-training/lib/python3.11/site-packages (from opentelemetry-sdk>=1.2.0->chromadb) (0.55b1)\n",
      "Requirement already satisfied: opentelemetry-instrumentation-asgi==0.55b1 in /home/toanlamt1/miniconda3/envs/langchain-training/lib/python3.11/site-packages (from opentelemetry-instrumentation-fastapi>=0.41b0->chromadb) (0.55b1)\n",
      "Requirement already satisfied: opentelemetry-instrumentation==0.55b1 in /home/toanlamt1/miniconda3/envs/langchain-training/lib/python3.11/site-packages (from opentelemetry-instrumentation-fastapi>=0.41b0->chromadb) (0.55b1)\n",
      "Requirement already satisfied: opentelemetry-util-http==0.55b1 in /home/toanlamt1/miniconda3/envs/langchain-training/lib/python3.11/site-packages (from opentelemetry-instrumentation-fastapi>=0.41b0->chromadb) (0.55b1)\n",
      "Requirement already satisfied: wrapt<2.0.0,>=1.0.0 in /home/toanlamt1/miniconda3/envs/langchain-training/lib/python3.11/site-packages (from opentelemetry-instrumentation==0.55b1->opentelemetry-instrumentation-fastapi>=0.41b0->chromadb) (1.17.2)\n",
      "Requirement already satisfied: asgiref~=3.0 in /home/toanlamt1/miniconda3/envs/langchain-training/lib/python3.11/site-packages (from opentelemetry-instrumentation-asgi==0.55b1->opentelemetry-instrumentation-fastapi>=0.41b0->chromadb) (3.8.1)\n",
      "Requirement already satisfied: backoff>=1.10.0 in /home/toanlamt1/miniconda3/envs/langchain-training/lib/python3.11/site-packages (from posthog>=2.4.0->chromadb) (2.2.1)\n",
      "Requirement already satisfied: markdown-it-py>=2.2.0 in /home/toanlamt1/miniconda3/envs/langchain-training/lib/python3.11/site-packages (from rich>=10.11.0->chromadb) (3.0.0)\n",
      "Requirement already satisfied: pygments<3.0.0,>=2.13.0 in /home/toanlamt1/miniconda3/envs/langchain-training/lib/python3.11/site-packages (from rich>=10.11.0->chromadb) (2.19.1)\n",
      "Requirement already satisfied: mdurl~=0.1 in /home/toanlamt1/miniconda3/envs/langchain-training/lib/python3.11/site-packages (from markdown-it-py>=2.2.0->rich>=10.11.0->chromadb) (0.1.2)\n",
      "Requirement already satisfied: huggingface-hub<1.0,>=0.16.4 in /home/toanlamt1/miniconda3/envs/langchain-training/lib/python3.11/site-packages (from tokenizers>=0.13.2->chromadb) (0.33.0)\n",
      "Requirement already satisfied: filelock in /home/toanlamt1/miniconda3/envs/langchain-training/lib/python3.11/site-packages (from huggingface-hub<1.0,>=0.16.4->tokenizers>=0.13.2->chromadb) (3.18.0)\n",
      "Requirement already satisfied: fsspec>=2023.5.0 in /home/toanlamt1/miniconda3/envs/langchain-training/lib/python3.11/site-packages (from huggingface-hub<1.0,>=0.16.4->tokenizers>=0.13.2->chromadb) (2025.5.1)\n",
      "Requirement already satisfied: hf-xet<2.0.0,>=1.1.2 in /home/toanlamt1/miniconda3/envs/langchain-training/lib/python3.11/site-packages (from huggingface-hub<1.0,>=0.16.4->tokenizers>=0.13.2->chromadb) (1.1.3)\n",
      "Requirement already satisfied: shellingham>=1.3.0 in /home/toanlamt1/miniconda3/envs/langchain-training/lib/python3.11/site-packages (from typer>=0.9.0->chromadb) (1.5.4)\n",
      "Requirement already satisfied: httptools>=0.6.3 in /home/toanlamt1/miniconda3/envs/langchain-training/lib/python3.11/site-packages (from uvicorn[standard]>=0.18.3->chromadb) (0.6.4)\n",
      "Requirement already satisfied: uvloop>=0.15.1 in /home/toanlamt1/miniconda3/envs/langchain-training/lib/python3.11/site-packages (from uvicorn[standard]>=0.18.3->chromadb) (0.21.0)\n",
      "Requirement already satisfied: watchfiles>=0.13 in /home/toanlamt1/miniconda3/envs/langchain-training/lib/python3.11/site-packages (from uvicorn[standard]>=0.18.3->chromadb) (1.1.0)\n",
      "Requirement already satisfied: websockets>=10.4 in /home/toanlamt1/miniconda3/envs/langchain-training/lib/python3.11/site-packages (from uvicorn[standard]>=0.18.3->chromadb) (15.0.1)\n",
      "Requirement already satisfied: humanfriendly>=9.1 in /home/toanlamt1/miniconda3/envs/langchain-training/lib/python3.11/site-packages (from coloredlogs->onnxruntime>=1.14.1->chromadb) (10.0)\n",
      "Requirement already satisfied: mpmath<1.4,>=1.1.0 in /home/toanlamt1/miniconda3/envs/langchain-training/lib/python3.11/site-packages (from sympy->onnxruntime>=1.14.1->chromadb) (1.3.0)\n"
     ]
    }
   ],
   "source": [
    "\n",
    "! pip install langchain chromadb openai tiktoken pypdf langchain_openai langchain-chroma duckduckgo-search"
   ]
  },
  {
   "cell_type": "markdown",
   "metadata": {},
   "source": [
    "# Init variables"
   ]
  },
  {
   "cell_type": "markdown",
   "metadata": {},
   "source": [
    "You need to set value of `OPENAI_API_KEY` that you get from the training team in the .env file"
   ]
  },
  {
   "cell_type": "code",
   "execution_count": 4,
   "metadata": {},
   "outputs": [],
   "source": [
    "import os\n",
    "from dotenv import load_dotenv\n",
    "\n",
    "# Load environment variables from the .env file\n",
    "load_dotenv()\n",
    "\n",
    "AZURE_OPENAI_API_KEY = os.getenv(\"OPENAI_API_KEY\")\n",
    "AZURE_OPENAI_API_VERSION = os.getenv(\"AZURE_OPENAI_API_VERSION\")\n",
    "AZURE_OPENAI_EMBEDDING_MODEL = os.getenv(\"OPENAI_EMBEDDING_MODEL\")\n",
    "AZURE_OPENAI_DEPLOYMENT_NAME = os.getenv(\"AZURE_OPENAI_EMBEDDING_DEPLOYMENT\")"
   ]
  },
  {
   "cell_type": "markdown",
   "metadata": {},
   "source": [
    "# Overviews\n",
    "The BonBon FAQ.pdf file contains frequently asked questions and answers for customer support scenario. The topics are around IT related issue troubleshooting such as networking, software, hardware. You are requested to provide a solution to build a chat bot capable of answering the user questions with LangChain."
   ]
  },
  {
   "cell_type": "markdown",
   "metadata": {},
   "source": [
    "## Assignment 1: Document Indexing (mandatory)"
   ]
  },
  {
   "cell_type": "markdown",
   "metadata": {},
   "source": [
    "- The content of BonBon FAQ.pdf should be indexed to the local Chroma vector DB from where the chatbot can lookup the appropriate information to answer questions.\n",
    "- Should use some embedding model such as Azure Open AI text-embedding-ada-002 to create vectors, feel free to use any other open source embedding model if it works."
   ]
  },
  {
   "cell_type": "code",
   "execution_count": 13,
   "metadata": {},
   "outputs": [
    {
     "name": "stdout",
     "output_type": "stream",
     "text": [
      "Built Chroma vector DB and loaded pdf file successfully!!!\n"
     ]
    }
   ],
   "source": [
    "from langchain.document_loaders import PyPDFLoader\n",
    "from langchain.text_splitter import RecursiveCharacterTextSplitter\n",
    "from langchain_openai import AzureOpenAIEmbeddings\n",
    "from langchain_chroma import Chroma\n",
    "\n",
    "\n",
    "embedding = AzureOpenAIEmbeddings(\n",
    "    azure_deployment=os.getenv(\"AZURE_OPENAI_EMBEDDING_DEPLOYMENT\"),\n",
    "    api_key=os.getenv(\"OPENAI_API_KEY\"),\n",
    "    azure_endpoint=\"https://langchain-training-openai.openai.azure.com\",\n",
    "    api_version=os.getenv(\"AZURE_OPENAI_API_VERSION\")\n",
    ")\n",
    "\n",
    "loader = PyPDFLoader(\"data/BonBon FAQ.pdf\")\n",
    "pages = loader.load()\n",
    "\n",
    "splitter = RecursiveCharacterTextSplitter(chunk_size=1000, chunk_overlap=200)\n",
    "chunks = splitter.split_documents(pages)\n",
    "\n",
    "for chunk in chunks:\n",
    "    chunk.metadata[\"source\"] = f\"BonBon FAQ.pdf (page {chunk.metadata.get('page', 'unknown') + 1})\"\n",
    "\n",
    "vectordb = Chroma.from_documents(chunks, embedding, persist_directory=\"./chroma_db\")\n",
    "print(\"Built Chroma vector DB and loaded pdf file successfully!!!\")\n"
   ]
  },
  {
   "cell_type": "markdown",
   "metadata": {},
   "source": [
    "## Assignment 2: Building Chatbot (mandatory)\n",
    "- You are requested to build a chatbot solution for customer support scenario using Conversational ReAct agent supported in LangChain\n",
    "- The chatbot is able to support user to answer FAQs in the sample BonBon FAQ.pdf file.\n",
    "- The chatbot should use Azure Open AI GPT-3.5 LLM as the reasoning engine.\n",
    "- The chatbot should be context aware, meaning that it should be able to chat with users in the conversation manner.\n",
    "- The agent is equipped the following tools:\n",
    "  - Internet Search: Help the chatbot automatically find out more about something using Duck Duck Go internet search\n",
    "  - Knowledge Base Search: Help the chatbot to lookup information in the private knowledge base\n",
    "- In case user asks for information related to topics in the BonBon FAQ.pdf file such as internet connection, printer, malware issues the chatbot must use the private knowledge base, otherwise it should search on the internet to answer the question.\n",
    "- In the answer of chatbot, it should mention the source file and the page that the answer belongs to, for example the answer should mention \"BonBon FQA.pdf (page 2)\""
   ]
  },
  {
   "cell_type": "code",
   "execution_count": null,
   "metadata": {},
   "outputs": [
    {
     "name": "stdout",
     "output_type": "stream",
     "text": [
      "💬 Welcome to BonBon Support Chatbot! (type 'exit' to quit)\n",
      "\n",
      "\n",
      "\n",
      "\u001b[1m> Entering new AgentExecutor chain...\u001b[0m\n",
      "\u001b[32;1m\u001b[1;3mThought: Do I need to use a tool? No\n",
      "AI: Hello! How can I assist you today?\u001b[0m\n",
      "\n",
      "\u001b[1m> Finished chain.\u001b[0m\n",
      "\n",
      "🤖 Bot: Hello! How can I assist you today?\n",
      "\n",
      "\n",
      "\n",
      "\u001b[1m> Entering new AgentExecutor chain...\u001b[0m\n",
      "\u001b[32;1m\u001b[1;3mThought: Do I need to use a tool? Yes\n",
      "Action: Knowledge Base\n",
      "Action Input: internet connection not working\u001b[0m\n",
      "Observation: \u001b[36;1m\u001b[1;3mPlease follow these steps to troubleshoot your internet connection issue:\n",
      "\n",
      "1) Check physical connections:\n",
      "- Ensure all cables (Ethernet, modem, router) are securely connected.\n",
      "- Power cycle your modem and router by unplugging them for 30 seconds and then plugging them back in.\n",
      "\n",
      "2) Verify Wi-Fi settings:\n",
      "- Make sure Wi-Fi on your device is turned on.\n",
      "- Check if you are connected to the correct Wi-Fi network.\n",
      "- Try disconnecting and reconnecting to the Wi-Fi network.\n",
      "\n",
      "3) Test connectivity on other devices:\n",
      "- Check if other devices can connect to the internet to determine if it's a device-specific issue or a broader network problem.\n",
      "\n",
      "4) Restart your device:\n",
      "- Restart your computer or device to refresh network settings.\n",
      "\n",
      "5) Disable/enable network adapters.\n",
      "\n",
      "(Source: data/BonBon FAQ.pdf (page 4))\u001b[0m\n",
      "Thought:\u001b[32;1m\u001b[1;3mDo I need to use a tool? No\n",
      "AI: Please follow the steps provided to troubleshoot your internet connection issue. If you continue to experience problems, feel free to ask for further assistance.\u001b[0m\n",
      "\n",
      "\u001b[1m> Finished chain.\u001b[0m\n",
      "\n",
      "🤖 Bot: Please follow the steps provided to troubleshoot your internet connection issue. If you continue to experience problems, feel free to ask for further assistance.\n",
      "\n",
      "\n",
      "\n",
      "\u001b[1m> Entering new AgentExecutor chain...\u001b[0m\n",
      "\u001b[32;1m\u001b[1;3mThought: Do I need to use a tool? Yes\n",
      "Action: Knowledge Base\n",
      "Action Input: How to connect to Any Corp’s Corporate Wi-Fi network\u001b[0m\n",
      "Observation: \u001b[36;1m\u001b[1;3mTo connect to Any Corp’s Corporate Wi-Fi network, follow these steps:\n",
      "\n",
      "1. Look for the available Wi-Fi networks on your device.\n",
      "2. Select Any Corp's corporate Wi-Fi network from the list of available networks.\n",
      "3. Enter the Wi-Fi network password or security key when prompted.\n",
      "4. Verify the connection by allowing your device to connect to the corporate Wi-Fi network.\n",
      "\n",
      "If you have trouble finding the network name or password, refer to the email sent when you first joined Any Corp. If you can't find the email, ask a colleague to access the Wi-Fi details on Any Corp’s Intranet or contact the IT Helpdesk for assistance.\n",
      "\n",
      "(Source: data/BonBon FAQ.pdf (page 5))\u001b[0m\n",
      "Thought:\u001b[32;1m\u001b[1;3mDo I need to use a tool? No\n",
      "AI: To connect to Any Corp’s Corporate Wi-Fi network, you need to look for the network in your device's available Wi-Fi networks, select it, enter the password or security key when prompted, and verify the connection. If you're having trouble, you can refer to the email you received when you first joined Any Corp, ask a colleague, or contact the IT Helpdesk for assistance.\u001b[0m\n",
      "\n",
      "\u001b[1m> Finished chain.\u001b[0m\n",
      "\n",
      "🤖 Bot: To connect to Any Corp’s Corporate Wi-Fi network, you need to look for the network in your device's available Wi-Fi networks, select it, enter the password or security key when prompted, and verify the connection. If you're having trouble, you can refer to the email you received when you first joined Any Corp, ask a colleague, or contact the IT Helpdesk for assistance.\n",
      "\n"
     ]
    }
   ],
   "source": [
    "from langchain_openai import AzureChatOpenAI\n",
    "from langchain.agents import Tool, initialize_agent, AgentType\n",
    "from langchain.tools import DuckDuckGoSearchRun\n",
    "from langchain.chains import RetrievalQA\n",
    "from langchain.chains.conversation.memory import ConversationBufferWindowMemory\n",
    "from langchain.memory import ConversationBufferMemory\n",
    "\n",
    "llm = AzureChatOpenAI(\n",
    "    azure_deployment=os.getenv(\"AZURE_OPENAI_CHAT_DEPLOYMENT\"),\n",
    "    api_key=os.getenv(\"OPENAI_API_KEY\"),\n",
    "    azure_endpoint=\"https://langchain-training-openai.openai.azure.com\",\n",
    "    api_version=os.getenv(\"AZURE_OPENAI_API_VERSION\"),\n",
    "    temperature=0.2\n",
    ")\n",
    "\n",
    "memory = ConversationBufferMemory(memory_key=\"chat_history\", return_messages=True)\n",
    "\n",
    "retriever = vectordb.as_retriever()\n",
    "\n",
    "qa_chain = RetrievalQA.from_chain_type(\n",
    "    llm=llm,\n",
    "    retriever=retriever,\n",
    "    return_source_documents=True,\n",
    "    verbose=False,\n",
    ")\n",
    "\n",
    "# Tool 1: Search from KB\n",
    "def search_kb_with_citation(query: str) -> str:\n",
    "    result = qa_chain.invoke({\"query\": query})\n",
    "    docs = result.get(\"source_documents\", [])\n",
    "    if not docs:\n",
    "        return \"I don't know.\"\n",
    "    \n",
    "    page = docs[0].metadata.get(\"page\", \"unknown\")\n",
    "    source = docs[0].metadata.get(\"source\", \"BonBon FAQ.pdf\")\n",
    "    return f\"{result['result']}\\n\\n(Source: {source} (page {int(page)+1}))\"\n",
    "\n",
    "# Tool 2: Internet search\n",
    "internet_search = DuckDuckGoSearchRun()\n",
    "\n",
    "tools = [\n",
    "    Tool(\n",
    "        name=\"Knowledge Base\",\n",
    "        func=search_kb_with_citation,\n",
    "        description=\"Use this to answer questions about internet connection, software, password, malware, printer, etc. from BonBon FAQ.\"\n",
    "    ),\n",
    "    Tool(\n",
    "        name=\"Web Search\",\n",
    "        func=internet_search.run,\n",
    "        description=\"Use this if the question is outside BonBon FAQ scope, like current events or general facts.\"\n",
    "    )\n",
    "]\n",
    "\n",
    "agent = initialize_agent(\n",
    "    tools=tools,\n",
    "    llm=llm,\n",
    "    agent=AgentType.CONVERSATIONAL_REACT_DESCRIPTION,\n",
    "    memory=memory,\n",
    "    verbose=True\n",
    ")\n",
    "\n",
    "def chat():\n",
    "    print(\"💬 Welcome to BonBon Support Chatbot! (type 'exit' to quit)\\n\")\n",
    "    while True:\n",
    "        question = input(\"User: \")\n",
    "        if question.lower() == \"exit\":\n",
    "            break\n",
    "        response = agent.run(question)\n",
    "        print(f\"\\n🤖 Bot: {response}\\n\")\n",
    "\n",
    "chat()\n",
    "\n"
   ]
  },
  {
   "cell_type": "markdown",
   "metadata": {},
   "source": [
    "## Assignment 3: Build a new assistant based on BonBon source code (optional)\n",
    "The objective\n",
    "- Run the code and index the sample BonBon FAQ.pdf file to Azure Cognitive Search\n",
    "- Explore the code and implement a new assistant that has the same behavior as above\n",
    "- Explore other features such as RBACs, features on admin portal\n",
    "\n",
    "Please contact the training team in case you need to get the source code of BonBon."
   ]
  }
 ],
 "metadata": {
  "kernelspec": {
   "display_name": "Python (langchain)",
   "language": "python",
   "name": "langchain-training"
  },
  "language_info": {
   "codemirror_mode": {
    "name": "ipython",
    "version": 3
   },
   "file_extension": ".py",
   "mimetype": "text/x-python",
   "name": "python",
   "nbconvert_exporter": "python",
   "pygments_lexer": "ipython3",
   "version": "3.11.13"
  }
 },
 "nbformat": 4,
 "nbformat_minor": 2
}
